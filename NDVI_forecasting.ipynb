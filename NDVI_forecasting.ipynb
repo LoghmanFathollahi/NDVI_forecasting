{
 "cells": [
  {
   "cell_type": "markdown",
   "id": "4e027994-d30c-46fa-ad09-2fdf6d4350c4",
   "metadata": {},
   "source": [
    "############################ Phase 1"
   ]
  },
  {
   "cell_type": "code",
   "execution_count": 1,
   "id": "6b047cc1-de77-44a2-a9d1-ee74fc6ce980",
   "metadata": {
    "tags": []
   },
   "outputs": [],
   "source": [
    "############################ Phase 1, step 1\n",
    "############################ Import libraries\n",
    "import pandas as pd\n",
    "import numpy as np\n",
    "import math\n",
    "import os"
   ]
  },
  {
   "cell_type": "code",
   "execution_count": 2,
   "id": "a50e4a77-2c5b-43c3-a0b2-470c7bfe1ba3",
   "metadata": {
    "tags": []
   },
   "outputs": [
    {
     "data": {
      "text/html": [
       "<div>\n",
       "<style scoped>\n",
       "    .dataframe tbody tr th:only-of-type {\n",
       "        vertical-align: middle;\n",
       "    }\n",
       "\n",
       "    .dataframe tbody tr th {\n",
       "        vertical-align: top;\n",
       "    }\n",
       "\n",
       "    .dataframe thead th {\n",
       "        text-align: right;\n",
       "    }\n",
       "</style>\n",
       "<table border=\"1\" class=\"dataframe\">\n",
       "  <thead>\n",
       "    <tr style=\"text-align: right;\">\n",
       "      <th></th>\n",
       "      <th>year</th>\n",
       "      <th>month</th>\n",
       "      <th>lat</th>\n",
       "      <th>lon</th>\n",
       "      <th>soil moisture (mean)</th>\n",
       "      <th>precipitation</th>\n",
       "      <th>temperature</th>\n",
       "      <th>ndvi_dif</th>\n",
       "      <th>ndvi</th>\n",
       "    </tr>\n",
       "  </thead>\n",
       "  <tbody>\n",
       "    <tr>\n",
       "      <th>0</th>\n",
       "      <td>2017</td>\n",
       "      <td>4</td>\n",
       "      <td>-0.5</td>\n",
       "      <td>-47.0</td>\n",
       "      <td>0.574741</td>\n",
       "      <td>398.456508</td>\n",
       "      <td>26.572355</td>\n",
       "      <td>0.048321</td>\n",
       "      <td>0.638990</td>\n",
       "    </tr>\n",
       "    <tr>\n",
       "      <th>1</th>\n",
       "      <td>2017</td>\n",
       "      <td>5</td>\n",
       "      <td>-0.5</td>\n",
       "      <td>-47.0</td>\n",
       "      <td>0.560529</td>\n",
       "      <td>58.895768</td>\n",
       "      <td>27.313396</td>\n",
       "      <td>0.004121</td>\n",
       "      <td>0.643111</td>\n",
       "    </tr>\n",
       "    <tr>\n",
       "      <th>2</th>\n",
       "      <td>2017</td>\n",
       "      <td>6</td>\n",
       "      <td>-0.5</td>\n",
       "      <td>-47.0</td>\n",
       "      <td>0.574662</td>\n",
       "      <td>111.196667</td>\n",
       "      <td>27.196434</td>\n",
       "      <td>-0.022629</td>\n",
       "      <td>0.620482</td>\n",
       "    </tr>\n",
       "    <tr>\n",
       "      <th>3</th>\n",
       "      <td>2017</td>\n",
       "      <td>7</td>\n",
       "      <td>-0.5</td>\n",
       "      <td>-47.0</td>\n",
       "      <td>0.571827</td>\n",
       "      <td>37.259126</td>\n",
       "      <td>27.205609</td>\n",
       "      <td>-0.044842</td>\n",
       "      <td>0.575640</td>\n",
       "    </tr>\n",
       "    <tr>\n",
       "      <th>4</th>\n",
       "      <td>2017</td>\n",
       "      <td>8</td>\n",
       "      <td>-0.5</td>\n",
       "      <td>-47.0</td>\n",
       "      <td>0.571412</td>\n",
       "      <td>0.000000</td>\n",
       "      <td>27.283456</td>\n",
       "      <td>-0.033857</td>\n",
       "      <td>0.541783</td>\n",
       "    </tr>\n",
       "    <tr>\n",
       "      <th>...</th>\n",
       "      <td>...</td>\n",
       "      <td>...</td>\n",
       "      <td>...</td>\n",
       "      <td>...</td>\n",
       "      <td>...</td>\n",
       "      <td>...</td>\n",
       "      <td>...</td>\n",
       "      <td>...</td>\n",
       "      <td>...</td>\n",
       "    </tr>\n",
       "    <tr>\n",
       "      <th>1009484</th>\n",
       "      <td>2020</td>\n",
       "      <td>2</td>\n",
       "      <td>9.5</td>\n",
       "      <td>99.0</td>\n",
       "      <td>0.492574</td>\n",
       "      <td>90.488580</td>\n",
       "      <td>26.071872</td>\n",
       "      <td>0.025299</td>\n",
       "      <td>0.756026</td>\n",
       "    </tr>\n",
       "    <tr>\n",
       "      <th>1009485</th>\n",
       "      <td>2020</td>\n",
       "      <td>3</td>\n",
       "      <td>9.5</td>\n",
       "      <td>99.0</td>\n",
       "      <td>0.490852</td>\n",
       "      <td>18.020527</td>\n",
       "      <td>27.458084</td>\n",
       "      <td>0.009107</td>\n",
       "      <td>0.765133</td>\n",
       "    </tr>\n",
       "    <tr>\n",
       "      <th>1009486</th>\n",
       "      <td>2020</td>\n",
       "      <td>4</td>\n",
       "      <td>9.5</td>\n",
       "      <td>99.0</td>\n",
       "      <td>0.493698</td>\n",
       "      <td>229.356772</td>\n",
       "      <td>27.952469</td>\n",
       "      <td>-0.076257</td>\n",
       "      <td>0.688876</td>\n",
       "    </tr>\n",
       "    <tr>\n",
       "      <th>1009487</th>\n",
       "      <td>2020</td>\n",
       "      <td>5</td>\n",
       "      <td>9.5</td>\n",
       "      <td>99.0</td>\n",
       "      <td>0.493269</td>\n",
       "      <td>210.775003</td>\n",
       "      <td>29.398903</td>\n",
       "      <td>0.075696</td>\n",
       "      <td>0.764572</td>\n",
       "    </tr>\n",
       "    <tr>\n",
       "      <th>1009488</th>\n",
       "      <td>2020</td>\n",
       "      <td>6</td>\n",
       "      <td>9.5</td>\n",
       "      <td>99.0</td>\n",
       "      <td>0.486869</td>\n",
       "      <td>292.634197</td>\n",
       "      <td>27.137276</td>\n",
       "      <td>-0.045667</td>\n",
       "      <td>0.718905</td>\n",
       "    </tr>\n",
       "  </tbody>\n",
       "</table>\n",
       "<p>1009489 rows × 9 columns</p>\n",
       "</div>"
      ],
      "text/plain": [
       "         year  month  lat   lon  soil moisture (mean)  precipitation  \\\n",
       "0        2017      4 -0.5 -47.0              0.574741     398.456508   \n",
       "1        2017      5 -0.5 -47.0              0.560529      58.895768   \n",
       "2        2017      6 -0.5 -47.0              0.574662     111.196667   \n",
       "3        2017      7 -0.5 -47.0              0.571827      37.259126   \n",
       "4        2017      8 -0.5 -47.0              0.571412       0.000000   \n",
       "...       ...    ...  ...   ...                   ...            ...   \n",
       "1009484  2020      2  9.5  99.0              0.492574      90.488580   \n",
       "1009485  2020      3  9.5  99.0              0.490852      18.020527   \n",
       "1009486  2020      4  9.5  99.0              0.493698     229.356772   \n",
       "1009487  2020      5  9.5  99.0              0.493269     210.775003   \n",
       "1009488  2020      6  9.5  99.0              0.486869     292.634197   \n",
       "\n",
       "         temperature  ndvi_dif      ndvi  \n",
       "0          26.572355  0.048321  0.638990  \n",
       "1          27.313396  0.004121  0.643111  \n",
       "2          27.196434 -0.022629  0.620482  \n",
       "3          27.205609 -0.044842  0.575640  \n",
       "4          27.283456 -0.033857  0.541783  \n",
       "...              ...       ...       ...  \n",
       "1009484    26.071872  0.025299  0.756026  \n",
       "1009485    27.458084  0.009107  0.765133  \n",
       "1009486    27.952469 -0.076257  0.688876  \n",
       "1009487    29.398903  0.075696  0.764572  \n",
       "1009488    27.137276 -0.045667  0.718905  \n",
       "\n",
       "[1009489 rows x 9 columns]"
      ]
     },
     "execution_count": 2,
     "metadata": {},
     "output_type": "execute_result"
    }
   ],
   "source": [
    "############################ Phase 1, step 2\n",
    "############################ Data loading\n",
    "path_ = './'\n",
    "data = pd.read_csv(os.path.join(path_, 'monthly_featuers.csv'))\n",
    "data"
   ]
  },
  {
   "cell_type": "code",
   "execution_count": 3,
   "id": "5b0a4849-3d12-47aa-837f-646bfddf30dc",
   "metadata": {
    "tags": []
   },
   "outputs": [
    {
     "name": "stdout",
     "output_type": "stream",
     "text": [
      "length of train 684846\n",
      "length of test 324643\n"
     ]
    }
   ],
   "source": [
    "############################ Phase 1, step 3\n",
    "############################ Define the train and test datasets\n",
    "mask_train = (data['year'].between(2017,2018)) | ((data['year'] == 2019) & data['month'].between(1,6))\n",
    "mask_test = (data['year'] == 2020) | ((data['year'] == 2019) & data['month'].between(7,12))\n",
    "\n",
    "data_test0 = data.loc[mask_test]\n",
    "data_train0 = data.loc[mask_train]\n",
    "\n",
    "print('length of train', len(data_train0))\n",
    "print('length of test', len(data_test0))\n"
   ]
  },
  {
   "cell_type": "code",
   "execution_count": 4,
   "id": "2aab27b2-5991-44d8-be28-7680b0178a5c",
   "metadata": {
    "tags": []
   },
   "outputs": [],
   "source": [
    "target = ['ndvi']\n",
    "featuers = ['precipitation', 'soil moisture (mean)', 'temperature', 'ndvi_dif', 'lat', 'lon', 'month'] \n",
    "\n",
    "data_train = data_train0.drop(['year'], axis=1)\n",
    "data_test = data_test0.drop(['year'], axis=1)\n",
    "\n",
    "x_train, y_train = data_train.drop(target, axis=1), data_train[target]\n",
    "x_test, y_test = data_test.drop(target, axis=1), data_test[target]"
   ]
  },
  {
   "cell_type": "code",
   "execution_count": 5,
   "id": "218a92c6-f823-4f18-89f0-91fecc58e1fa",
   "metadata": {
    "tags": []
   },
   "outputs": [
    {
     "name": "stdout",
     "output_type": "stream",
     "text": [
      "684846\n",
      "324643\n"
     ]
    }
   ],
   "source": [
    "############################ Phase 1, step 4\n",
    "############################ Normalizing datasets\n",
    "from sklearn.preprocessing import MinMaxScaler\n",
    "\n",
    "def lofa_mm_scaler(x, scaled_typ):\n",
    "    if (scaled_typ == 'min_max'):\n",
    "        x_scaled = pd.DataFrame(MinMaxScaler().fit_transform(x), columns = x.columns)\n",
    "    elif (scaled_typ == 'standrd'):\n",
    "        x_scaled = pd.DataFrame(StandardScaler().fit_transform(x), columns = x.columns)\n",
    "    print(len(x_scaled))\n",
    "    return x_scaled\n",
    "\n",
    "\n",
    "x_train_scaled = lofa_mm_scaler(x_train, 'min_max')\n",
    "x_test_scaled = lofa_mm_scaler(x_test, 'min_max')"
   ]
  },
  {
   "cell_type": "markdown",
   "id": "a0a38589-bda9-44f7-b5de-732188a7c456",
   "metadata": {},
   "source": [
    "############################ Phase 2"
   ]
  },
  {
   "cell_type": "code",
   "execution_count": 6,
   "id": "5e0986e2-d051-460f-a29d-b2ed94baa451",
   "metadata": {
    "tags": []
   },
   "outputs": [
    {
     "name": "stderr",
     "output_type": "stream",
     "text": [
      "2023-10-05 11:48:40.009156: I tensorflow/core/platform/cpu_feature_guard.cc:193] This TensorFlow binary is optimized with oneAPI Deep Neural Network Library (oneDNN) to use the following CPU instructions in performance-critical operations:  SSE4.1 SSE4.2 AVX AVX2 FMA\n",
      "To enable them in other operations, rebuild TensorFlow with the appropriate compiler flags.\n"
     ]
    }
   ],
   "source": [
    "############################ Phase 2, step 1\n",
    "############################ Import libraries\n",
    "from tensorflow.keras.losses import MeanSquaredLogarithmicError\n",
    "from sklearn.model_selection import train_test_split\n",
    "from sklearn.preprocessing import StandardScaler\n",
    "from tensorflow.keras.models import Sequential\n",
    "from sklearn.preprocessing import MinMaxScaler\n",
    "from sklearn.metrics import mean_squared_error\n",
    "from tensorflow.keras.optimizers import Adam\n",
    "from tensorflow.keras.layers import Dropout\n",
    "from tensorflow.keras.layers import Dense \n",
    "from tensorflow.keras import regularizers\n",
    "from tensorflow.keras.layers import LSTM\n",
    "from tensorflow.keras import Sequential\n",
    "from tensorflow.keras import Model\n",
    "import tensorflow as tf"
   ]
  },
  {
   "cell_type": "code",
   "execution_count": 7,
   "id": "70894ccf-6dcc-4800-8933-f3e887ac6bed",
   "metadata": {
    "tags": []
   },
   "outputs": [
    {
     "name": "stderr",
     "output_type": "stream",
     "text": [
      "2023-10-05 11:48:45.479333: I tensorflow/core/platform/cpu_feature_guard.cc:193] This TensorFlow binary is optimized with oneAPI Deep Neural Network Library (oneDNN) to use the following CPU instructions in performance-critical operations:  SSE4.1 SSE4.2 AVX AVX2 FMA\n",
      "To enable them in other operations, rebuild TensorFlow with the appropriate compiler flags.\n",
      "2023-10-05 11:48:45.480826: I tensorflow/core/common_runtime/process_util.cc:146] Creating new thread pool with default inter op setting: 2. Tune using inter_op_parallelism_threads for best performance.\n"
     ]
    }
   ],
   "source": [
    "############################ Phase 2, step 2\n",
    "############################ Model details\n",
    "hidden_units1 = 150\n",
    "hidden_units2 = 125\n",
    "hidden_units3 = 100\n",
    "hidden_units4 = 75\n",
    "hidden_units5 = 50\n",
    "hidden_units6 = 25\n",
    "\n",
    "learning_rate = 0.00001\n",
    "drop = 0.2\n",
    "kernel_initi ='random_normal'\n",
    "l2_reg = 0.01\n",
    "\n",
    "############################ Model structure\n",
    "def build_model_using_sequential():\n",
    "    model = Sequential([\n",
    "        Dense(hidden_units1, kernel_initializer=kernel_initi, activity_regularizer=regularizers.l2(l2_reg), activation='relu'),\n",
    "        Dropout(drop),\n",
    "        Dense(hidden_units2, kernel_initializer=kernel_initi, activity_regularizer=regularizers.L2(l2_reg),activation='relu'),\n",
    "        Dropout(drop),\n",
    "        Dense(hidden_units3, kernel_initializer=kernel_initi, activity_regularizer=regularizers.L2(l2_reg),activation='relu'),\n",
    "        Dropout(drop),\n",
    "        Dense(hidden_units4, kernel_initializer=kernel_initi, activity_regularizer=regularizers.L2(l2_reg),activation='relu'),\n",
    "        Dropout(drop),\n",
    "        Dense(hidden_units5, kernel_initializer=kernel_initi, activity_regularizer=regularizers.L2(l2_reg),activation='relu'),\n",
    "        Dropout(drop),\n",
    "        Dense(hidden_units6, kernel_initializer=kernel_initi, activity_regularizer=regularizers.L2(l2_reg),activation='relu'),\n",
    "        Dropout(drop),\n",
    "        Dense(1, kernel_initializer=kernel_initi, activation='linear')\n",
    "        ])\n",
    "    return model\n",
    "\n",
    "############################ Model building\n",
    "model = build_model_using_sequential()\n",
    "\n"
   ]
  },
  {
   "cell_type": "code",
   "execution_count": 8,
   "id": "14325d14-e0eb-4c1f-aa2d-337ee168d91f",
   "metadata": {},
   "outputs": [],
   "source": [
    "############################ Phase 2, step 3\n",
    "############################ Loss function\n",
    "msle = MeanSquaredLogarithmicError()\n",
    "model.compile(\n",
    "    loss = msle, \n",
    "    optimizer = Adam(learning_rate = learning_rate), \n",
    "    metrics = [msle]\n",
    ")\n"
   ]
  },
  {
   "cell_type": "code",
   "execution_count": 9,
   "id": "f87f7f11-e6d1-47fc-b9c0-e04bea645a26",
   "metadata": {
    "tags": []
   },
   "outputs": [
    {
     "name": "stdout",
     "output_type": "stream",
     "text": [
      "Epoch 1/14\n",
      "9631/9631 [==============================] - 86s 9ms/step - loss: 0.0425 - mean_squared_logarithmic_error: 0.0297 - val_loss: 0.0181 - val_mean_squared_logarithmic_error: 0.0095\n",
      "Epoch 2/14\n",
      "9631/9631 [==============================] - 78s 8ms/step - loss: 0.0119 - mean_squared_logarithmic_error: 0.0079 - val_loss: 0.0113 - val_mean_squared_logarithmic_error: 0.0083\n",
      "Epoch 3/14\n",
      "9631/9631 [==============================] - 81s 8ms/step - loss: 0.0087 - mean_squared_logarithmic_error: 0.0068 - val_loss: 0.0101 - val_mean_squared_logarithmic_error: 0.0085\n",
      "Epoch 4/14\n",
      "9631/9631 [==============================] - 79s 8ms/step - loss: 0.0075 - mean_squared_logarithmic_error: 0.0063 - val_loss: 0.0093 - val_mean_squared_logarithmic_error: 0.0081\n",
      "Epoch 5/14\n",
      "9631/9631 [==============================] - 80s 8ms/step - loss: 0.0069 - mean_squared_logarithmic_error: 0.0060 - val_loss: 0.0087 - val_mean_squared_logarithmic_error: 0.0078\n",
      "Epoch 6/14\n",
      "9631/9631 [==============================] - 84s 9ms/step - loss: 0.0065 - mean_squared_logarithmic_error: 0.0057 - val_loss: 0.0085 - val_mean_squared_logarithmic_error: 0.0077\n",
      "Epoch 7/14\n",
      "9631/9631 [==============================] - 82s 9ms/step - loss: 0.0062 - mean_squared_logarithmic_error: 0.0055 - val_loss: 0.0089 - val_mean_squared_logarithmic_error: 0.0083\n",
      "Epoch 8/14\n",
      "9631/9631 [==============================] - 82s 9ms/step - loss: 0.0060 - mean_squared_logarithmic_error: 0.0054 - val_loss: 0.0085 - val_mean_squared_logarithmic_error: 0.0079\n",
      "Epoch 9/14\n",
      "9631/9631 [==============================] - 83s 9ms/step - loss: 0.0058 - mean_squared_logarithmic_error: 0.0052 - val_loss: 0.0079 - val_mean_squared_logarithmic_error: 0.0073\n",
      "Epoch 10/14\n",
      "9631/9631 [==============================] - 81s 8ms/step - loss: 0.0056 - mean_squared_logarithmic_error: 0.0051 - val_loss: 0.0082 - val_mean_squared_logarithmic_error: 0.0077\n",
      "Epoch 11/14\n",
      "9631/9631 [==============================] - 85s 9ms/step - loss: 0.0055 - mean_squared_logarithmic_error: 0.0050 - val_loss: 0.0081 - val_mean_squared_logarithmic_error: 0.0077\n",
      "Epoch 12/14\n",
      "9631/9631 [==============================] - 85s 9ms/step - loss: 0.0054 - mean_squared_logarithmic_error: 0.0050 - val_loss: 0.0071 - val_mean_squared_logarithmic_error: 0.0067\n",
      "Epoch 13/14\n",
      "9631/9631 [==============================] - 94s 10ms/step - loss: 0.0053 - mean_squared_logarithmic_error: 0.0049 - val_loss: 0.0076 - val_mean_squared_logarithmic_error: 0.0072\n",
      "Epoch 14/14\n",
      "9631/9631 [==============================] - 128s 13ms/step - loss: 0.0052 - mean_squared_logarithmic_error: 0.0048 - val_loss: 0.0074 - val_mean_squared_logarithmic_error: 0.0071\n"
     ]
    }
   ],
   "source": [
    "############################ Phase 2, step 4\n",
    "############################ Train the model\n",
    "history = model.fit(\n",
    "    x_train_scaled.values, \n",
    "    y_train.values, \n",
    "    epochs = 14,# 14 \n",
    "    batch_size = 64,\n",
    "    validation_split = 0.1\n",
    ")"
   ]
  },
  {
   "cell_type": "code",
   "execution_count": 10,
   "id": "5a47894d-3c28-4235-ae58-d2c36aa5be39",
   "metadata": {
    "tags": []
   },
   "outputs": [
    {
     "name": "stdout",
     "output_type": "stream",
     "text": [
      "10146/10146 [==============================] - 57s 6ms/step\n",
      "21402/21402 [==============================] - 110s 5ms/step\n",
      "r2 for train is:  0.87\n",
      "r2 for test is:  0.86\n"
     ]
    }
   ],
   "source": [
    "############################ Phase 2, step 5\n",
    "############################ Model Evaluation\n",
    "from sklearn.metrics import r2_score \n",
    "\n",
    "x_test_prediction = model.predict(x_test_scaled)\n",
    "x_train_prediction = model.predict(x_train_scaled)\n",
    "\n",
    "train_r2 = r2_score(y_train, x_train_prediction)\n",
    "test_r2 = r2_score(y_test, x_test_prediction)\n",
    "\n",
    "print('r2 for train is: ', round(train_r2, 2))\n",
    "print('r2 for test is: ', round(test_r2, 2))"
   ]
  },
  {
   "cell_type": "code",
   "execution_count": null,
   "id": "7d9779ae-e302-4ef6-bfb7-edaa98c7832a",
   "metadata": {},
   "outputs": [],
   "source": []
  }
 ],
 "metadata": {
  "kernelspec": {
   "display_name": "Python 3 (ipykernel)",
   "language": "python",
   "name": "python3"
  },
  "language_info": {
   "codemirror_mode": {
    "name": "ipython",
    "version": 3
   },
   "file_extension": ".py",
   "mimetype": "text/x-python",
   "name": "python",
   "nbconvert_exporter": "python",
   "pygments_lexer": "ipython3",
   "version": "3.9.16"
  }
 },
 "nbformat": 4,
 "nbformat_minor": 5
}
